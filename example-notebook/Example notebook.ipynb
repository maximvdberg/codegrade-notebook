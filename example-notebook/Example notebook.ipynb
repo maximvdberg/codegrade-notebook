{
 "cells": [
  {
   "cell_type": "markdown",
   "metadata": {
    "editable": true,
    "slideshow": {
     "slide_type": ""
    },
    "tags": []
   },
   "source": [
    "# Example notebook\n",
    "\n",
    "_Adapted from a notebook from Gdansk Summer School 'Picturing Quantum Weirdness 2023'_\n",
    "\n",
    "\n",
    "In this problem sheet, we will get the hang of working with the basic generators of circuits and ZX-diagrams concretely, using matrix calculations. For this, we will use the `sympy` library."
   ]
  },
  {
   "cell_type": "code",
   "execution_count": 14,
   "metadata": {},
   "outputs": [],
   "source": [
    "from sympy import *\n",
    "from sympy.physics.quantum import TensorProduct\n",
    "from fractions import Fraction\n",
    "from IPython.display import display\n",
    "\n",
    "def T(*args):\n",
    "    if len(args) == 1: return args[0]\n",
    "    elif len(args) == 0: return Matrix([[1]])\n",
    "    else: return TensorProduct(args[0], T(*args[1:]))\n",
    "\n",
    "alpha = var(\"alpha\")\n",
    "beta = var(\"beta\")\n",
    "gamma = var(\"gamma\")"
   ]
  },
  {
   "cell_type": "markdown",
   "metadata": {},
   "source": [
    "With this library, we can construct matrices with `Matrix`. Then `*` is matrix multiplication, and `T` is tensor product.\n",
    "\n",
    "Note `T` takes any number of arguments, e.g. $A \\otimes B \\otimes C$ is `T(A,B,C)`, and if you want to be fancy: $A^{\\otimes n}$ is `T(*n*[A])`. (Python trivia: Why does that work??)"
   ]
  },
  {
   "cell_type": "code",
   "execution_count": 15,
   "metadata": {},
   "outputs": [
    {
     "data": {
      "text/latex": [
       "$\\displaystyle \\left[\\begin{matrix}1 & 2\\\\3 & 4\\end{matrix}\\right]$"
      ],
      "text/plain": [
       "Matrix([\n",
       "[1, 2],\n",
       "[3, 4]])"
      ]
     },
     "metadata": {},
     "output_type": "display_data"
    },
    {
     "data": {
      "text/latex": [
       "$\\displaystyle \\left[\\begin{matrix}37 & 54\\\\81 & 118\\end{matrix}\\right]$"
      ],
      "text/plain": [
       "Matrix([\n",
       "[37,  54],\n",
       "[81, 118]])"
      ]
     },
     "metadata": {},
     "output_type": "display_data"
    },
    {
     "data": {
      "text/latex": [
       "$\\displaystyle \\left[\\begin{matrix}1 & 2 & 2 & 4\\\\3 & 4 & 6 & 8\\\\3 & 6 & 4 & 8\\\\9 & 12 & 12 & 16\\end{matrix}\\right]$"
      ],
      "text/plain": [
       "Matrix([\n",
       "[1,  2,  2,  4],\n",
       "[3,  4,  6,  8],\n",
       "[3,  6,  4,  8],\n",
       "[9, 12, 12, 16]])"
      ]
     },
     "metadata": {},
     "output_type": "display_data"
    }
   ],
   "source": [
    "M = Matrix([[1,  2],\n",
    "            [3,  4]])\n",
    "display(M)\n",
    "display(M * M * M)\n",
    "display(T(M,M))"
   ]
  },
  {
   "cell_type": "markdown",
   "metadata": {},
   "source": [
    "We can also define some variables with `var` which can be used in mathmatical expressions, and substituted via `.subs(...)`. Variable names can be any string, but `sympy` knows how to pretty-print some variable names, e.g. Greek letters.\n",
    "\n",
    "NOTE: $\\sqrt{2}$ is `sqrt(2)`, $i$ is `I`, $\\pi$ is `pi`, and $e^x$ is `exp(x)`, so phases $e^{i \\alpha}$ are written `exp(i * alpha)`."
   ]
  },
  {
   "cell_type": "code",
   "execution_count": 3,
   "metadata": {
    "editable": true,
    "slideshow": {
     "slide_type": ""
    },
    "tags": []
   },
   "outputs": [
    {
     "data": {
      "text/latex": [
       "$\\displaystyle \\alpha$"
      ],
      "text/plain": [
       "alpha"
      ]
     },
     "metadata": {},
     "output_type": "display_data"
    },
    {
     "data": {
      "text/latex": [
       "$\\displaystyle e^{i \\alpha}$"
      ],
      "text/plain": [
       "exp(I*alpha)"
      ]
     },
     "metadata": {},
     "output_type": "display_data"
    },
    {
     "data": {
      "text/latex": [
       "$\\displaystyle - i$"
      ],
      "text/plain": [
       "-I"
      ]
     },
     "metadata": {},
     "output_type": "display_data"
    },
    {
     "data": {
      "text/plain": [
       "True"
      ]
     },
     "metadata": {},
     "output_type": "display_data"
    },
    {
     "data": {
      "text/latex": [
       "$\\displaystyle \\frac{\\sqrt{2}}{2} + \\frac{\\sqrt{2} i}{2}$"
      ],
      "text/plain": [
       "sqrt(2)/2 + sqrt(2)*I/2"
      ]
     },
     "metadata": {},
     "output_type": "display_data"
    }
   ],
   "source": [
    "alpha = var(\"alpha\")\n",
    "phase = exp(I * alpha)\n",
    "epi4 = exp(I * pi / 4)\n",
    "\n",
    "display(alpha)\n",
    "display(phase)\n",
    "display(phase.subs(alpha, -pi / 2))\n",
    "display(phase.subs(alpha, pi / 4) == epi4)\n",
    "display(re(epi4) + I * im(epi4))"
   ]
  },
  {
   "cell_type": "markdown",
   "metadata": {},
   "source": [
    "That should be enough to get going. If in doubt, [read the docs](https://docs.sympy.org/latest/index.html)."
   ]
  },
  {
   "cell_type": "markdown",
   "metadata": {},
   "source": [
    "# Question 0\n",
    "\n",
    "First some basics. Define matrices for:\n",
    " * `z0` := $|0\\rangle$, `z1` := $|1\\rangle$, `x0` := $|{+}\\rangle$, `x1` := $|{-}\\rangle$\n",
    " * `bz0` := $\\langle 0|$, `bz1` := $\\langle 1|$, `bx0` := $\\langle {+}|$, `bx1` := $\\langle {-}|$\n",
    " * `w` for the 2D identity matrix (\"wire\")\n",
    " * `swap` for the swap\n",
    "\n",
    "Compute various products and tensor products and show the results are sensible."
   ]
  },
  {
   "cell_type": "code",
   "execution_count": 4,
   "metadata": {},
   "outputs": [
    {
     "data": {
      "text/latex": [
       "$\\displaystyle \\left[\\begin{matrix}1\\end{matrix}\\right]$"
      ],
      "text/plain": [
       "Matrix([[1]])"
      ]
     },
     "metadata": {},
     "output_type": "display_data"
    },
    {
     "data": {
      "text/latex": [
       "$\\displaystyle \\left[\\begin{matrix}0\\end{matrix}\\right]$"
      ],
      "text/plain": [
       "Matrix([[0]])"
      ]
     },
     "metadata": {},
     "output_type": "display_data"
    },
    {
     "data": {
      "text/latex": [
       "$\\displaystyle \\left[\\begin{matrix}1 & 0 & 0 & 1\\end{matrix}\\right]$"
      ],
      "text/plain": [
       "Matrix([[1, 0, 0, 1]])"
      ]
     },
     "metadata": {},
     "output_type": "display_data"
    },
    {
     "data": {
      "text/plain": [
       "True"
      ]
     },
     "metadata": {},
     "output_type": "display_data"
    },
    {
     "data": {
      "text/plain": [
       "True"
      ]
     },
     "metadata": {},
     "output_type": "display_data"
    }
   ],
   "source": [
    "#!# BEGIN SOLUTION\n",
    "z0 = Matrix([[1],[0]])\n",
    "z1 = Matrix([[0],[1]])\n",
    "x0 = (1/sqrt(2)) * Matrix([[1], [1]])\n",
    "x1 = (1/sqrt(2)) * Matrix([[1], [-1]])\n",
    "\n",
    "bz0, bz1, bx0, bx1 = (m.adjoint() for m in (z0,z1,x0,x1))\n",
    "w = eye(2)\n",
    "swap = Matrix([[1, 0, 0, 0],\n",
    "               [0, 0, 1, 0],\n",
    "               [0, 1, 0, 0],\n",
    "               [0, 0, 0, 1]])\n",
    "#!# END SOLUTION\n",
    "\n",
    "display(bz0 * z0)\n",
    "display(bz0 * z1)\n",
    "#!# BEGIN SOLUTION\n",
    "display(T(bz0,bz0) + T(bz1,bz1))\n",
    "display(swap * swap == T(w,w))\n",
    "display(T(swap, w) * T(w, swap) * T(swap, w) == T(w, swap) * T(swap, w) * T(w, swap))\n",
    "#!# END SOLUTION"
   ]
  },
  {
   "cell_type": "code",
   "execution_count": 5,
   "metadata": {},
   "outputs": [],
   "source": [
    "#!# BEGIN VISIBLE TESTS\n",
    "if not 'weight' in locals():\n",
    "    weight, name, description = [lambda x: lambda x: 0]*3\n",
    "    \n",
    "@weight(1)\n",
    "@name(\"Question 0: z0\")\n",
    "@description(\"Test the z0 state\")\n",
    "def test_z0():\n",
    "    assert student.z0 == z0\n",
    "\n",
    "@weight(1)\n",
    "@name(\"Question 0: z1\")\n",
    "@description(\"Test the z1 state\")\n",
    "def test_z1():\n",
    "    assert student.z1 == z1\n",
    "\n",
    "@weight(1)\n",
    "@name(\"Question 0: x0\")\n",
    "@description(\"Test the x0 state\")\n",
    "def test_x0():\n",
    "    assert student.x0 == x0\n",
    "\n",
    "@weight(1)\n",
    "@name(\"Question 0: x1\")\n",
    "@description(\"Test the x1 state\")\n",
    "def test_x1():\n",
    "    assert student.x1 == x1\n",
    "\n",
    "@weight(1)\n",
    "@name(\"Question 0: bz0\")\n",
    "@description(\"Test the bz0 state\")\n",
    "def test_bz0():\n",
    "    assert student.bz0 == bz0\n",
    "\n",
    "@weight(1)\n",
    "@name(\"Question 0: bz1\")\n",
    "@description(\"Test the bz1 state\")\n",
    "def test_bz1():\n",
    "    assert student.bz1 == bz1\n",
    "\n",
    "@weight(1)\n",
    "@name(\"Question 0: bx0\")\n",
    "@description(\"Test the bx0 state\")\n",
    "def test_bx0():\n",
    "    assert student.bx0 == bx0\n",
    "\n",
    "@weight(1)\n",
    "@name(\"Question 0: bx1\")\n",
    "@description(\"Test the bx1 state\")\n",
    "def test_bx1():\n",
    "    assert student.bx1 == bx1\n",
    "#!# END VISIBLE TESTS\n",
    "\n",
    "#!# BEGIN HIDDEN TESTS\n",
    "@weight(1)\n",
    "@name(\"Question 0: wire\")\n",
    "@description(\"Test the 2D identity matrix\")\n",
    "def test_identity():\n",
    "    assert student.w == w\n",
    "\n",
    "@weight(1)\n",
    "@name(\"Question 0: swap\")\n",
    "@description(\"Test the swap gate\")\n",
    "def test_swap():\n",
    "    assert student.swap == swap\n",
    "#!# END HIDDEN TESTS"
   ]
  },
  {
   "cell_type": "markdown",
   "metadata": {},
   "source": [
    "# Question 1\n",
    "\n",
    "Define a function that produces the matrix of a Z-spider. It should take 3 arguments: `m` for input legs, `n` for output legs, and `phase` for phase. The phase should have a default value of 0.\n",
    "\n",
    "Build this function in (at least) 2 different ways:\n",
    " 1. by building the $2^n \\times 2^m$ matrix of the spider explicitly (call this function `zs`)\n",
    " 2. by using sums, compositions, and tensor products of the generators from the previous question\n",
    "\n",
    "Test your implementation by comparing the matrices for various choices of inputs, outputs, and phases. (Don't forget to check no-legged spiders!)"
   ]
  },
  {
   "cell_type": "code",
   "execution_count": 13,
   "metadata": {},
   "outputs": [
    {
     "data": {
      "text/plain": [
       "True"
      ]
     },
     "metadata": {},
     "output_type": "display_data"
    }
   ],
   "source": [
    "#!# BEGIN SOLUTION\n",
    "def zs(m, n, phase=0):\n",
    "    return Matrix([[\n",
    "        (1 if i == 0 and j == 0 else 0) +\n",
    "        (exp(I * phase) if i == 2**m - 1 and j == 2**n - 1 else 0)\n",
    "      for i in range(2**m)] for j in range(2**n)])\n",
    "\n",
    "def zs_gens(m, n, phase=0):\n",
    "    return (\n",
    "        T(*n*[z0]) * T(*m*[bz0]) +\n",
    "        exp(I * phase) * T(*n*[z1]) * T(*m*[bz1])\n",
    "    )\n",
    "#!# END SOLUTION\n",
    "\n",
    "display(all([[zs_gens(i, j, alpha) == zs(i, j, alpha) for i in range(4)] for j in range(4)]))"
   ]
  },
  {
   "cell_type": "code",
   "execution_count": 7,
   "metadata": {},
   "outputs": [],
   "source": [
    "#!# BEGIN VISIBLE TESTS\n",
    "import inspect\n",
    "import re as regex\n",
    "\n",
    "@weight(0)\n",
    "@name(\"Question 1: zs method check\")\n",
    "@description(\"Checks if the zs function uses an explicit matrix construction\")\n",
    "def test_zs_method():\n",
    "    source = inspect.getsource(student.zs)\n",
    "    source = regex.sub(r\"#.*\", \"\", source) # Remove comments \n",
    "    \n",
    "    assert \"Matrix\" in source\n",
    "    assert \"for\" in source\n",
    "\n",
    "@weight(0)\n",
    "@name(\"Question 1: zs_gens method check\")\n",
    "@description(\"Checks if the zs function uses the generators and tensor products\")\n",
    "def test_zs_gens_method():\n",
    "    source = inspect.getsource(student.zs_gens)\n",
    "    source = regex.sub(r\"#.*\", \"\", source) # Remove comments \n",
    "\n",
    "    assert \"T\" in source\n",
    "    assert \"z0\" in source or \"z1\" in source\n",
    "#!# END VISIBLE TESTS\n",
    "\n",
    "#!# BEGIN HIDDEN TESTS\n",
    "import inspect\n",
    "import re as regex\n",
    "\n",
    "@weight(3)\n",
    "@name(\"Question 1: zs\")\n",
    "@description(\"Test the z-spider generating function using an explicit matrix construction\")\n",
    "def test_zs():\n",
    "    # Check method\n",
    "    source = inspect.getsource(student.zs)\n",
    "    source = regex.sub(r\"#.*\", \"\", source) # Remove comments \n",
    "    \n",
    "    assert \"Matrix\" in source\n",
    "    assert \"for\" in source\n",
    "    \n",
    "    # Check correctness\n",
    "    for i in range(4):\n",
    "        for j in range(4): \n",
    "            assert student.zs(i, j, alpha) == zs(i, j, alpha)\n",
    "\n",
    "@weight(3)\n",
    "@name(\"Question 1: zs_gens\")\n",
    "@description(\"Test the z-spider generating function using the generators\")\n",
    "def test_zs_gens():\n",
    "    # Check method\n",
    "    source = inspect.getsource(student.zs_gens)\n",
    "    source = regex.sub(r\"#.*\", \"\", source) # Remove comments \n",
    "\n",
    "    assert \"T\" in source\n",
    "    assert \"z0\" in source or \"z1\" in source\n",
    "\n",
    "    # Check correcteness\n",
    "    for i in range(4):\n",
    "        for j in range(4): \n",
    "            assert student.zs_gens(i, j, alpha) == zs_gens(i, j, alpha)\n",
    "#!# END HIDDEN TESTS"
   ]
  }
 ],
 "metadata": {
  "kernelspec": {
   "display_name": "Python 3 (ipykernel)",
   "language": "python",
   "name": "python3"
  },
  "language_info": {
   "codemirror_mode": {
    "name": "ipython",
    "version": 3
   },
   "file_extension": ".py",
   "mimetype": "text/x-python",
   "name": "python",
   "nbconvert_exporter": "python",
   "pygments_lexer": "ipython3",
   "version": "3.11.5"
  }
 },
 "nbformat": 4,
 "nbformat_minor": 4
}
