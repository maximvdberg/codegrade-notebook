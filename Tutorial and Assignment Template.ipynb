{
 "cells": [
  {
   "cell_type": "markdown",
   "id": "5646749c-6b6f-4e1b-a4c5-5158b4cc3c8b",
   "metadata": {},
   "source": [
    "## CodeGrade Assignment — Tutorial and Template\n",
    "_Maxim van den Berg (reach me via maximvdberg@gmail.com)_\n",
    "\n",
    "This is tutorial and template for creating notebook assignments graded through CodeGrade. You can write the assignments, solutions and autotests all in this document. Then by running \n",
    "```bash\n",
    "$ python prepare.py assignment [solution notebook].ipynb [student notebook].ipynb\n",
    "``` \n",
    "you remove the solutions and autotests, and you can upload the resulting notebook for your students to Canvas.\n",
    "\n",
    "You need to have the `nbconvert` python package installed for the script to work. "
   ]
  },
  {
   "cell_type": "markdown",
   "id": "93278ba4-d7bf-486b-b9fb-695309461bb9",
   "metadata": {},
   "source": [
    "### Using this document\n",
    "In these cells you write your assignment information. $\\LaTeX$ is supported. In the cell below student can write their solution (although they can put in anywhere in the notebook). Make sure students use the correct variable and function names, for instance by writing them in the cell already. Do not use the same name twice in the notebook, as it breaks the autotests.\n",
    "\n",
    "Write the solution between `### BEGIN SOLUTION` and `### END SOLUTION`. This will be automatically removed and replaced with `# Your code here...` in the student notebook."
   ]
  },
  {
   "cell_type": "code",
   "execution_count": 1,
   "id": "6b2eef96-936a-4c3f-a988-20fd0e30468b",
   "metadata": {},
   "outputs": [],
   "source": [
    "\n",
    "### BEGIN SOLUTION\n",
    "answer = 10\n",
    "### END SOLUTION\n",
    "# answer = ...\n",
    "\n",
    "def add(a, b):\n",
    "    ### BEGIN SOLUTION\n",
    "    return a + b\n",
    "    ### END SOLUTION\n"
   ]
  },
  {
   "cell_type": "markdown",
   "id": "6096763d-b35e-473f-ad75-d889e2cb1288",
   "metadata": {},
   "source": [
    "You can also simply tell to student to \"implement the `add(a, b)` function\" and write the cell like this."
   ]
  },
  {
   "cell_type": "code",
   "execution_count": 2,
   "id": "4ce2dc6f-0c48-4f0f-a36f-649ef6e18b95",
   "metadata": {},
   "outputs": [],
   "source": [
    "### BEGIN SOLUTION\n",
    "def add(a, b):\n",
    "    return a + b\n",
    "### END SOLUTION"
   ]
  },
  {
   "cell_type": "markdown",
   "id": "e1af9272-4813-4432-b169-6b71a36c48d8",
   "metadata": {},
   "source": [
    "### Creating autotests\n",
    "Write the tests between `### BEGIN VISIBLE TESTS` and `### END VISIBLE TESTS` or `### BEGIN HIDDEN TESTS` and `### END HIDDEN TESTS`. Both will be automatically removed in the student notebook. The first category will be visible for students on CodeGrade after handing in. The second will only become visible after the deadline has passed.\n",
    "\n",
    "The tests use [pytest](https://docs.pytest.org/en/7.4.x/). Every test is a function that starts with `test_` and takes no arguments. PyTests gives full points if all `assert`-statements in the function evaluate to `True`. \n",
    "\n",
    "The students solutions will be available in the `student` module, so for testing the student code all variables/functions should start with `student.`. If multiple functions depend on each other, it is recommended to use `student.` only for the function being tested, to avoid continuous errors. The tests can access all variables and functions in the solution notebook directly.\n",
    "\n",
    "The `weight`, `name` and `description` decorators link up with CodeGrade when we run the tests there. The `name` and `assignment` are what the students will see in CodeGrade, and should tell te students to which assignment the test belongs. Recommended is to set `name` to the assignment name (for example `\"Question 1, part (a)\"`). Set `description` if you want (for example `\"Test the add function\"`). \n",
    "\n",
    "\n",
    "_Note that the decorators are not defined until running the tests in CodeGrade. If you want to suppress errors you can import temporary dummy definitions from the prepare file (as is done at the top of the following cell)._"
   ]
  },
  {
   "cell_type": "code",
   "execution_count": 7,
   "id": "928d089d-bfc3-42e7-8021-0ce98d166960",
   "metadata": {},
   "outputs": [],
   "source": [
    "### BEGIN VISIBLE TESTS\n",
    "if not 'weight' in locals():\n",
    "    from prepare import weight, name, description\n",
    "\n",
    "@weight(1)\n",
    "@name(\"A name for the test\")\n",
    "@description(\"A description of the test\")\n",
    "def test_add_single():\n",
    "    assert student.add(10,12) == add(10,12)\n",
    "### END VISIBLE TESTS\n",
    "\n",
    "### BEGIN HIDDEN TESTS\n",
    "# You can add helper functions as well. \n",
    "def helper_function(i):\n",
    "    return i + 1\n",
    "\n",
    "@weight(3)\n",
    "@name(\"A name for the test\")\n",
    "@description(\"A description of the test\")\n",
    "def test_add_multiple():\n",
    "    for i in range(10):\n",
    "        assert student.add(1, i) == helper_function(i)\n",
    "### END HIDDEN TESTS"
   ]
  },
  {
   "attachments": {},
   "cell_type": "markdown",
   "id": "10146b2c-af63-412c-96b8-8ce51d0f2787",
   "metadata": {},
   "source": [
    "### Setting up CodeGrade\n",
    "\n",
    "First create an assignment in Canvas, go to _Submission type_, select _External tool_ and select _CodeGra.de_ from the list. You can also set availability and deadlines here. They will be synced with CodeGrade.\n",
    "\n",
    "![Create assignment](tutorial-images/create-assignment.png)\n",
    "\n",
    "Now saving and opening the assignment shows the CodeGrade interface. If you want, press _New Tab_ on the bottom left to open the window in a new browser tab. Navigate to _Courses_ and then to your course. Your assignment should be listed here. Clicking on the assignment opens the submission window, which is used when grading. \n",
    "\n",
    "![CodeGrade window](tutorial-images/codegrade-window.png)\n",
    "\n",
    "Pressing the _cogwheel_ opens the assignment settings, which is where we will configure the rubric and autotests now. \n",
    "Navigate to the _Rubric_ tab and create a new rubric. For the autotests we need to use a _Continuous category_.\n",
    "\n",
    "![Autotest rubric](tutorial-images/rubric-continuous.png)\n",
    "\n",
    "You can also add a manually graded category alongside the autotests, which will often be _Discrete_.\n",
    "\n",
    "![Manually graded rubric](tutorial-images/rubric-discrete.png)\n",
    "\n",
    "Now we want to setup the autotests. Navigate to the _AutoTest_ tab and select _AutoTest V2_. If you have done the following steps before, you can select _Copy_ here, but for now select _Create_.\n",
    "\n",
    "![AutoTest Screen](tutorial-images/autotest-screen.png)\n",
    "\n",
    "Navigate to _Setup_. The Setup steps are run once for all students, so here we will install required packages and upload required files for autograding. \n",
    "Drag the _Upload files_ step to the left and upload your notebook (including the solutions and autotests) as well as `prepare.py`.\n",
    "\n",
    "![Setup screen](tutorial-images/setup-screen.png)\n",
    "\n",
    "Now drag the _Script_ step to the left and copy the following line to it: \n",
    "\n",
    "```bash\n",
    "python3 -m pip install notebook nbconvert\n",
    "```\n",
    "\n",
    "Here you can install other Python packages your notebook needs as well (for instance, write `python3 -m pip install notebook nbconvert sympy numpy matplotlib` on the first line instead). \n",
    "\n",
    "Then drag another _Script_ step below it and copy the following line to it:\n",
    "```bash\n",
    "python3 $UPLOADED_FILES/prepare.py solutions\n",
    "```\n",
    "\n",
    "You can also name the steps if you want. Your setup steps should now look something like this:\n",
    "\n",
    "![Setup scripts](tutorial-images/setup.png)\n",
    "\n",
    "Next, navigate to _Tests_, drag a _Script_ step to the left and paste the following into it:\n",
    "```bash\n",
    "python3 $UPLOADED_FILES/prepare.py hand-in\n",
    "```\n",
    "\n",
    "Now drag a _Connect Rubric_ step to the left, and link it to the _AutoTest_ rubric category. \n",
    "Then drag a _Pytest_ step into the _Connect Rubric_ step and paste the following into it:\n",
    "\n",
    "```python\n",
    "import prepare\n",
    "exec(prepare.tests(\"VISIBLE\"))\n",
    "```\n",
    "\n",
    "This will extract all visible tests from the notebook. We can do the same for the hidden tests. For this we first drag a _Hidden_ step from the right to below the previous step, and place the same Pytest script inside it as before, but with `\"VISIBLE\"` changed to `\"HIDDEN\"`. Set the _Hidden_ step to _result | before | deadline_.\n",
    "\n",
    "CodeGrade will assign equal weight to every Pytest step (so the visible and hidden tests will have equal weight). In many cases this is not what we want, so we will add _Weight_ steps around the two Pytest steps, and set the weight to equal the total amount of weight set in your tests. Unfortunately, you have to set this weight manually every time you change the point total.\n",
    "\n",
    "Your steps should then look something like this:\n",
    "\n",
    "![Tests scripts everything](tutorial-images/tests-all.png)\n",
    "\n",
    "\n",
    "We're almost done! Press _Build Snapshot_ on the bottom right and upload the solutions notebook as the test submission (you can reupload this under the _General_ tab). Now CodeGrade will run the setup and test steps. This might take a while.\n",
    "Any error will be displayed to you. If everything went correctly you will see a list of your autotests appear. This is what students will see as well. Pressing _Publish to Students_ will start the tests for your students! \n",
    "\n",
    "![Autotest results](tutorial-images/test-results.png)\n"
   ]
  },
  {
   "attachments": {},
   "cell_type": "markdown",
   "id": "a8011a34-7ec0-48ed-9646-2506d034ebc6",
   "metadata": {},
   "source": [
    "### Optional: Making the solutions available to students\n",
    "You can remove only the tests from the notebook by running\n",
    "\n",
    "```bash\n",
    "    $ python prepare.py remove-tests [solutions notebook].ipynb [solutions but no tests notebook].ipynb\n",
    "```\n",
    "with `[solutions notebook.ipynb]` the notebook with the solutions and tests.\n",
    "..."
   ]
  },
  {
   "cell_type": "markdown",
   "id": "587c7897-d324-460b-aeef-4f64fae9ad5a",
   "metadata": {},
   "source": [
    "### Optional: Link tests to specific CodeGrade rubrics\n",
    "If you would like, you can link tests to specific rubric categories in CodeGrade, to provide more structure for your students. This is not too hard but requires some more effort to manually set things up in your notebook and CodeGrade. Because of this it is also not possible anymore to simply directly copy the CodeGrade AutoTests from a previous exercise.\n",
    "\n",
    "The basic idea is that you can give test blocks other categories than just `HIDDEN` or `VISIBLE`. In fact, you can write any category name you like. For instance, `QUESTION1_VISIBLE`."
   ]
  },
  {
   "cell_type": "code",
   "execution_count": null,
   "id": "60346028-8592-4a1e-8b28-cfd63f6350f6",
   "metadata": {},
   "outputs": [],
   "source": [
    "### BEGIN QUESTION1_VISIBLE TESTS\n",
    "if not 'weight' in locals():\n",
    "    from prepare import weight, name, description\n",
    "\n",
    "@weight(1)\n",
    "@name(\"Add function 1\")\n",
    "@description(\"Testing if the add function can add 10 and 12 correctly.\")\n",
    "def test_add_single():\n",
    "    assert student.add(10,12) == add(10,12)\n",
    "### END QUESTION1_VISIBLE TESTS\n",
    "\n",
    "### BEGIN QUESTION1_VISIBLE TESTS\n",
    "@weight(1)\n",
    "@name(\"Add function 2\")\n",
    "@description(\"Testing if the add function can add 23 and 1 correctly.\")\n",
    "def test_add_single():\n",
    "    assert student.add(23,1) == add(23,1)\n",
    "### END QUESTION1_VISIBLE TESTS\n"
   ]
  },
  {
   "cell_type": "markdown",
   "id": "b58c7585-071e-4ba6-8e47-7ca9f1d87d8a",
   "metadata": {},
   "source": [
    "Then in the rubric add a rubric items however you would like, for instance as below. Remember to make autotested items a continuous category.\n",
    "\n",
    "![Mutiple rubric items](tutorial-images/multiple-rubric.png)\n",
    "\n",
    "Then in the autotest screen link up the autotests one-by-one, replacing the `\"VISIBLE\"` string in the script from before with whatever category names you chose (this is case sensitive!). If your question only has visible or hidden tests, you can leave out the _Weight_ steps. \n",
    "Remember to use the duplication feature (available by clicking the three dots of the _Connect Rubric_ step) to make your live easier! \n",
    "\n",
    "![Mutiple test items](tutorial-images/multiple-tests.png)\n"
   ]
  },
  {
   "cell_type": "code",
   "execution_count": null,
   "id": "c3bacf84-fc83-4642-9b95-1fbd1b21ad60",
   "metadata": {},
   "outputs": [],
   "source": []
  }
 ],
 "metadata": {
  "kernelspec": {
   "display_name": "Python 3 (ipykernel)",
   "language": "python",
   "name": "python3"
  },
  "language_info": {
   "codemirror_mode": {
    "name": "ipython",
    "version": 3
   },
   "file_extension": ".py",
   "mimetype": "text/x-python",
   "name": "python",
   "nbconvert_exporter": "python",
   "pygments_lexer": "ipython3",
   "version": "3.11.5"
  }
 },
 "nbformat": 4,
 "nbformat_minor": 5
}
